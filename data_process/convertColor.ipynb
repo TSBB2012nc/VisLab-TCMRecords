{
 "cells": [
  {
   "cell_type": "code",
   "execution_count": 21,
   "metadata": {},
   "outputs": [],
   "source": [
    "import pandas as pd\n",
    "import json"
   ]
  },
  {
   "cell_type": "code",
   "execution_count": 4,
   "metadata": {},
   "outputs": [
    {
     "data": {
      "text/html": [
       "<div>\n",
       "<style scoped>\n",
       "    .dataframe tbody tr th:only-of-type {\n",
       "        vertical-align: middle;\n",
       "    }\n",
       "\n",
       "    .dataframe tbody tr th {\n",
       "        vertical-align: top;\n",
       "    }\n",
       "\n",
       "    .dataframe thead th {\n",
       "        text-align: right;\n",
       "    }\n",
       "</style>\n",
       "<table border=\"1\" class=\"dataframe\">\n",
       "  <thead>\n",
       "    <tr style=\"text-align: right;\">\n",
       "      <th></th>\n",
       "      <th>药名</th>\n",
       "      <th>性味归经</th>\n",
       "      <th>功效</th>\n",
       "      <th>主治</th>\n",
       "      <th>教材分类</th>\n",
       "      <th>名医对于药物的用法</th>\n",
       "      <th>专家分类</th>\n",
       "    </tr>\n",
       "  </thead>\n",
       "  <tbody>\n",
       "    <tr>\n",
       "      <th>0</th>\n",
       "      <td>茜草</td>\n",
       "      <td>苦、寒。归肝经。</td>\n",
       "      <td>凉血、祛瘀、止血、通经</td>\n",
       "      <td>用于吐血、衄血、崩漏、外伤出血、瘀阻经闭、关节痹痛、跌扑肿痛</td>\n",
       "      <td>止血药</td>\n",
       "      <td>清热止血、治血尿</td>\n",
       "      <td>凉血止血类</td>\n",
       "    </tr>\n",
       "    <tr>\n",
       "      <th>1</th>\n",
       "      <td>仙鹤草</td>\n",
       "      <td>苦、涩、平。归心、肝经。</td>\n",
       "      <td>收敛止血、截疟、止痢、解毒、补虚</td>\n",
       "      <td>用于咯血、吐血、崩漏下血、疟疾、血痢、痈肿疮毒、阴痒带下、脱力劳伤</td>\n",
       "      <td>止血药</td>\n",
       "      <td>止血、治血尿</td>\n",
       "      <td>凉血止血类</td>\n",
       "    </tr>\n",
       "    <tr>\n",
       "      <th>2</th>\n",
       "      <td>小蓟</td>\n",
       "      <td>甘、苦、凉。归心、肝经。</td>\n",
       "      <td>凉血止血、散瘀解毒消痈</td>\n",
       "      <td>用于衄血、吐血、尿血、血淋、便血、崩漏、外伤出血、痈肿疮毒</td>\n",
       "      <td>止血药</td>\n",
       "      <td>清热止血、治血尿</td>\n",
       "      <td>凉血止血类</td>\n",
       "    </tr>\n",
       "    <tr>\n",
       "      <th>3</th>\n",
       "      <td>合欢皮</td>\n",
       "      <td>甘、平。归心、肝、肺经。</td>\n",
       "      <td>解郁安神、活血消肿</td>\n",
       "      <td>用于心神不安、忧郁失眠、肺痈、疮肿、跌扑伤痛</td>\n",
       "      <td>养心安神药</td>\n",
       "      <td>疏肝、安神</td>\n",
       "      <td>安神类</td>\n",
       "    </tr>\n",
       "    <tr>\n",
       "      <th>4</th>\n",
       "      <td>酸枣仁</td>\n",
       "      <td>甘、酸、平。归肝、胆、心经。</td>\n",
       "      <td>养心补肝、宁心安神、敛汗、生津</td>\n",
       "      <td>用于虚烦不眠、惊悸多梦、体虚多汗、津伤口渴</td>\n",
       "      <td>养心安神药</td>\n",
       "      <td>安神敛阴</td>\n",
       "      <td>安神类</td>\n",
       "    </tr>\n",
       "  </tbody>\n",
       "</table>\n",
       "</div>"
      ],
      "text/plain": [
       "    药名            性味归经                功效                                 主治  \\\n",
       "0   茜草        苦、寒。归肝经。       凉血、祛瘀、止血、通经     用于吐血、衄血、崩漏、外伤出血、瘀阻经闭、关节痹痛、跌扑肿痛   \n",
       "1  仙鹤草    苦、涩、平。归心、肝经。  收敛止血、截疟、止痢、解毒、补虚  用于咯血、吐血、崩漏下血、疟疾、血痢、痈肿疮毒、阴痒带下、脱力劳伤   \n",
       "2   小蓟    甘、苦、凉。归心、肝经。       凉血止血、散瘀解毒消痈      用于衄血、吐血、尿血、血淋、便血、崩漏、外伤出血、痈肿疮毒   \n",
       "3  合欢皮    甘、平。归心、肝、肺经。         解郁安神、活血消肿             用于心神不安、忧郁失眠、肺痈、疮肿、跌扑伤痛   \n",
       "4  酸枣仁  甘、酸、平。归肝、胆、心经。   养心补肝、宁心安神、敛汗、生津              用于虚烦不眠、惊悸多梦、体虚多汗、津伤口渴   \n",
       "\n",
       "    教材分类 名医对于药物的用法   专家分类  \n",
       "0    止血药  清热止血、治血尿  凉血止血类  \n",
       "1    止血药    止血、治血尿  凉血止血类  \n",
       "2    止血药  清热止血、治血尿  凉血止血类  \n",
       "3  养心安神药     疏肝、安神    安神类  \n",
       "4  养心安神药      安神敛阴    安神类  "
      ]
     },
     "execution_count": 4,
     "metadata": {},
     "output_type": "execute_result"
    }
   ],
   "source": [
    "df_info = pd.read_csv('Result-MedicalTable.csv')\n",
    "df_info.head()"
   ]
  },
  {
   "cell_type": "code",
   "execution_count": 7,
   "metadata": {},
   "outputs": [
    {
     "data": {
      "text/plain": [
       "array(['止血药', '养心安神药', '泻下药', '清热类', '活血祛瘀药', '补虚药', '祛湿类', '解表药', '收敛药',\n",
       "       '消食药', '理气药'], dtype=object)"
      ]
     },
     "execution_count": 7,
     "metadata": {},
     "output_type": "execute_result"
    }
   ],
   "source": [
    "df_info[\"教材分类简化\"] = df_info[\"教材分类\"].apply(lambda x: x[:x.find(\"（\")] if x.find(\"（\") != -1 else x)\n",
    "df_info[\"教材分类简化\"].unique()"
   ]
  },
  {
   "cell_type": "code",
   "execution_count": 10,
   "metadata": {},
   "outputs": [
    {
     "data": {
      "text/plain": [
       "array(['凉血止血类', '安神类', '泄浊毒类', '活血类', '清热类', '祛风止痒类', '补肾类', '补脾益气类',\n",
       "       '降蛋白尿'], dtype=object)"
      ]
     },
     "execution_count": 10,
     "metadata": {},
     "output_type": "execute_result"
    }
   ],
   "source": [
    "df_info[\"专家分类简化\"] = df_info[\"专家分类\"].apply(lambda x: x[:x.find(\"（\")] if x.find(\"（\") != -1 else x)\n",
    "df_info[\"专家分类简化\"].unique()"
   ]
  },
  {
   "cell_type": "code",
   "execution_count": 13,
   "metadata": {},
   "outputs": [],
   "source": [
    "book_color = {\n",
    "    \"养心安神药\": (251, 154, 153),\n",
    "    \"活血祛瘀药\": (225, 87, 89),\n",
    "    \"消食药\": (255, 176, 24),\n",
    "    \"止血药\": (255, 127, 0),\n",
    "    \"泻下药\": (177, 89, 40),\n",
    "    \"解表药\": (217, 217, 217),\n",
    "    \"祛湿类\": (166, 206, 227),\n",
    "    \"理气药\": (31, 119, 180),\n",
    "    \"补虚药\": (106, 61, 154),\n",
    "    \"清热类\": (178, 223, 138),\n",
    "    \"收敛药\": (141, 211, 199)\n",
    "}\n",
    "\n",
    "exp_color = {\n",
    "    '安神类': (251, 154, 153),\n",
    "    '活血类': (225, 87, 89),\n",
    "    '补脾益气类': (253, 191, 111),\n",
    "    '凉血止血类': (255, 127, 0),\n",
    "    '泄浊毒类': (177, 89, 40),\n",
    "    '祛风止痒类': (217, 217, 217),\n",
    "    '补肾类': (106, 61, 154),\n",
    "    '清热类': (178, 223, 138),\n",
    "    '降蛋白尿': (0, 0, 0)\n",
    "}\n",
    "df_info[\"Color1\"] = df_info[\"教材分类简化\"].apply(lambda x: book_color[x])\n",
    "df_info[\"Color2\"] = df_info[\"专家分类简化\"].apply(lambda x: exp_color[x])"
   ]
  },
  {
   "cell_type": "code",
   "execution_count": 15,
   "metadata": {},
   "outputs": [],
   "source": [
    "df_info.to_json(\"herb_info.json\", orient=\"records\", force_ascii=False)"
   ]
  },
  {
   "cell_type": "code",
   "execution_count": 16,
   "metadata": {},
   "outputs": [
    {
     "data": {
      "text/html": [
       "<div>\n",
       "<style scoped>\n",
       "    .dataframe tbody tr th:only-of-type {\n",
       "        vertical-align: middle;\n",
       "    }\n",
       "\n",
       "    .dataframe tbody tr th {\n",
       "        vertical-align: top;\n",
       "    }\n",
       "\n",
       "    .dataframe thead th {\n",
       "        text-align: right;\n",
       "    }\n",
       "</style>\n",
       "<table border=\"1\" class=\"dataframe\">\n",
       "  <thead>\n",
       "    <tr style=\"text-align: right;\">\n",
       "      <th></th>\n",
       "      <th>Pinyin Name</th>\n",
       "      <th>Name</th>\n",
       "      <th>symp1</th>\n",
       "      <th>symp2</th>\n",
       "      <th>Name2</th>\n",
       "      <th>sqww1</th>\n",
       "      <th>sqww2</th>\n",
       "    </tr>\n",
       "  </thead>\n",
       "  <tbody>\n",
       "    <tr>\n",
       "      <th>0</th>\n",
       "      <td>bai shu</td>\n",
       "      <td>白术</td>\n",
       "      <td>35.480033</td>\n",
       "      <td>38.666230</td>\n",
       "      <td>白术</td>\n",
       "      <td>9.810410</td>\n",
       "      <td>3.146796</td>\n",
       "    </tr>\n",
       "    <tr>\n",
       "      <th>1</th>\n",
       "      <td>dang shen</td>\n",
       "      <td>党参</td>\n",
       "      <td>74.721928</td>\n",
       "      <td>-1.769608</td>\n",
       "      <td>党参</td>\n",
       "      <td>30.178741</td>\n",
       "      <td>-19.731174</td>\n",
       "    </tr>\n",
       "    <tr>\n",
       "      <th>2</th>\n",
       "      <td>gan cao</td>\n",
       "      <td>甘草</td>\n",
       "      <td>-55.421431</td>\n",
       "      <td>-12.841886</td>\n",
       "      <td>甘草</td>\n",
       "      <td>37.738730</td>\n",
       "      <td>-15.215534</td>\n",
       "    </tr>\n",
       "    <tr>\n",
       "      <th>3</th>\n",
       "      <td>huang jing</td>\n",
       "      <td>黄精</td>\n",
       "      <td>57.118866</td>\n",
       "      <td>8.270385</td>\n",
       "      <td>黄精</td>\n",
       "      <td>32.220878</td>\n",
       "      <td>-27.139721</td>\n",
       "    </tr>\n",
       "    <tr>\n",
       "      <th>4</th>\n",
       "      <td>huang qi</td>\n",
       "      <td>黄芪</td>\n",
       "      <td>-74.872374</td>\n",
       "      <td>19.392336</td>\n",
       "      <td>黄芪</td>\n",
       "      <td>23.587107</td>\n",
       "      <td>-11.603899</td>\n",
       "    </tr>\n",
       "  </tbody>\n",
       "</table>\n",
       "</div>"
      ],
      "text/plain": [
       "  Pinyin Name Name      symp1      symp2 Name2      sqww1      sqww2\n",
       "0     bai shu   白术  35.480033  38.666230    白术   9.810410   3.146796\n",
       "1   dang shen   党参  74.721928  -1.769608    党参  30.178741 -19.731174\n",
       "2     gan cao   甘草 -55.421431 -12.841886    甘草  37.738730 -15.215534\n",
       "3  huang jing   黄精  57.118866   8.270385    黄精  32.220878 -27.139721\n",
       "4    huang qi   黄芪 -74.872374  19.392336    黄芪  23.587107 -11.603899"
      ]
     },
     "execution_count": 16,
     "metadata": {},
     "output_type": "execute_result"
    }
   ],
   "source": [
    "df_umap = pd.read_csv('newdata.csv')\n",
    "df_umap.head()"
   ]
  },
  {
   "cell_type": "code",
   "execution_count": 20,
   "metadata": {},
   "outputs": [
    {
     "data": {
      "text/plain": [
       "{'茜草': {'Color1': (255, 127, 0), 'Color2': (255, 127, 0)},\n",
       " '仙鹤草': {'Color1': (255, 127, 0), 'Color2': (255, 127, 0)},\n",
       " '小蓟': {'Color1': (255, 127, 0), 'Color2': (255, 127, 0)},\n",
       " '合欢皮': {'Color1': (251, 154, 153), 'Color2': (251, 154, 153)},\n",
       " '酸枣仁': {'Color1': (251, 154, 153), 'Color2': (251, 154, 153)},\n",
       " '大黄': {'Color1': (177, 89, 40), 'Color2': (177, 89, 40)},\n",
       " '积雪草': {'Color1': (178, 223, 138), 'Color2': (177, 89, 40)},\n",
       " '三七': {'Color1': (255, 127, 0), 'Color2': (225, 87, 89)},\n",
       " '丹参': {'Color1': (225, 87, 89), 'Color2': (225, 87, 89)},\n",
       " '桃仁': {'Color1': (225, 87, 89), 'Color2': (225, 87, 89)},\n",
       " '延胡索': {'Color1': (225, 87, 89), 'Color2': (225, 87, 89)},\n",
       " '泽兰': {'Color1': (225, 87, 89), 'Color2': (225, 87, 89)},\n",
       " '赤芍': {'Color1': (178, 223, 138), 'Color2': (225, 87, 89)},\n",
       " '白芍': {'Color1': (106, 61, 154), 'Color2': (225, 87, 89)},\n",
       " '当归': {'Color1': (106, 61, 154), 'Color2': (225, 87, 89)},\n",
       " '白花蛇舌草': {'Color1': (178, 223, 138), 'Color2': (178, 223, 138)},\n",
       " '金银花': {'Color1': (178, 223, 138), 'Color2': (178, 223, 138)},\n",
       " '蒲公英': {'Color1': (178, 223, 138), 'Color2': (178, 223, 138)},\n",
       " '土茯苓': {'Color1': (178, 223, 138), 'Color2': (178, 223, 138)},\n",
       " '鱼腥草': {'Color1': (178, 223, 138), 'Color2': (178, 223, 138)},\n",
       " '白茅根': {'Color1': (178, 223, 138), 'Color2': (178, 223, 138)},\n",
       " '板蓝根': {'Color1': (178, 223, 138), 'Color2': (178, 223, 138)},\n",
       " '石韦': {'Color1': (178, 223, 138), 'Color2': (178, 223, 138)},\n",
       " '知母': {'Color1': (178, 223, 138), 'Color2': (178, 223, 138)},\n",
       " '黄芩': {'Color1': (178, 223, 138), 'Color2': (178, 223, 138)},\n",
       " '薏苡仁': {'Color1': (166, 206, 227), 'Color2': (178, 223, 138)},\n",
       " '车前子': {'Color1': (166, 206, 227), 'Color2': (178, 223, 138)},\n",
       " '菊花': {'Color1': (217, 217, 217), 'Color2': (178, 223, 138)},\n",
       " '地肤子': {'Color1': (178, 223, 138), 'Color2': (217, 217, 217)},\n",
       " '白鲜皮': {'Color1': (178, 223, 138), 'Color2': (217, 217, 217)},\n",
       " '山茱萸': {'Color1': (141, 211, 199), 'Color2': (106, 61, 154)},\n",
       " '牛膝': {'Color1': (225, 87, 89), 'Color2': (106, 61, 154)},\n",
       " '生地黄': {'Color1': (178, 223, 138), 'Color2': (106, 61, 154)},\n",
       " '黄精': {'Color1': (106, 61, 154), 'Color2': (106, 61, 154)},\n",
       " '山药': {'Color1': (106, 61, 154), 'Color2': (106, 61, 154)},\n",
       " '熟地黄': {'Color1': (106, 61, 154), 'Color2': (106, 61, 154)},\n",
       " '制何首乌': {'Color1': (106, 61, 154), 'Color2': (106, 61, 154)},\n",
       " '菟丝子': {'Color1': (106, 61, 154), 'Color2': (106, 61, 154)},\n",
       " '淫羊藿': {'Color1': (106, 61, 154), 'Color2': (106, 61, 154)},\n",
       " '墨旱莲': {'Color1': (106, 61, 154), 'Color2': (106, 61, 154)},\n",
       " '女贞子': {'Color1': (106, 61, 154), 'Color2': (106, 61, 154)},\n",
       " '桑寄生': {'Color1': (106, 61, 154), 'Color2': (106, 61, 154)},\n",
       " '麦芽': {'Color1': (255, 176, 24), 'Color2': (253, 191, 111)},\n",
       " '陈皮': {'Color1': (31, 119, 180), 'Color2': (253, 191, 111)},\n",
       " '砂仁': {'Color1': (166, 206, 227), 'Color2': (253, 191, 111)},\n",
       " '茯苓': {'Color1': (166, 206, 227), 'Color2': (253, 191, 111)},\n",
       " '白术': {'Color1': (106, 61, 154), 'Color2': (253, 191, 111)},\n",
       " '党参': {'Color1': (106, 61, 154), 'Color2': (253, 191, 111)},\n",
       " '甘草': {'Color1': (106, 61, 154), 'Color2': (253, 191, 111)},\n",
       " '黄芪': {'Color1': (106, 61, 154), 'Color2': (253, 191, 111)},\n",
       " '太子参': {'Color1': (106, 61, 154), 'Color2': (253, 191, 111)},\n",
       " '五指毛桃': {'Color1': (106, 61, 154), 'Color2': (253, 191, 111)},\n",
       " '重楼(七叶一枝花）': {'Color1': (178, 223, 138), 'Color2': (0, 0, 0)}}"
      ]
     },
     "execution_count": 20,
     "metadata": {},
     "output_type": "execute_result"
    }
   ],
   "source": [
    "color_json = df_info[[\"药名\", \"Color1\", \"Color2\"]].to_dict(orient=\"records\")\n",
    "color_json = {x[\"药名\"]: {\"Color1\": x[\"Color1\"], \"Color2\": x[\"Color2\"]} for x in color_json}\n",
    "color_json"
   ]
  },
  {
   "cell_type": "code",
   "execution_count": 22,
   "metadata": {},
   "outputs": [],
   "source": [
    "# 保存为json\n",
    "with open(\"herb_color.json\", \"w\") as f:\n",
    "    json.dump(color_json, f)\n",
    "with open('book_color.json', 'w') as f:\n",
    "    json.dump(book_color, f)\n",
    "with open('exp_color.json', 'w') as f:\n",
    "    json.dump(exp_color, f)"
   ]
  },
  {
   "cell_type": "code",
   "execution_count": 23,
   "metadata": {},
   "outputs": [],
   "source": [
    "df_symp = df_umap[[\"Name\", \"symp1\", \"symp2\"]]\n",
    "df_symp.to_json(\"symp_loc.json\", orient=\"records\", force_ascii=False)\n",
    "\n",
    "df_attr = df_umap[[\"Name\", \"sqww1\", \"sqww2\"]]\n",
    "df_attr.to_json(\"attr_loc.json\", orient=\"records\", force_ascii=False)"
   ]
  },
  {
   "cell_type": "code",
   "execution_count": null,
   "metadata": {},
   "outputs": [],
   "source": []
  }
 ],
 "metadata": {
  "kernelspec": {
   "display_name": "base",
   "language": "python",
   "name": "python3"
  },
  "language_info": {
   "codemirror_mode": {
    "name": "ipython",
    "version": 3
   },
   "file_extension": ".py",
   "mimetype": "text/x-python",
   "name": "python",
   "nbconvert_exporter": "python",
   "pygments_lexer": "ipython3",
   "version": "3.12.3"
  }
 },
 "nbformat": 4,
 "nbformat_minor": 2
}
